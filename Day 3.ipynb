{
 "cells": [
  {
   "cell_type": "code",
   "execution_count": 2,
   "id": "7a913b02",
   "metadata": {},
   "outputs": [
    {
     "name": "stdout",
     "output_type": "stream",
     "text": [
      "Your roll number: AP19110010013\n",
      "Belongs to CSE\n"
     ]
    }
   ],
   "source": [
    "a = input(\"Your roll number: \")\n",
    "if a[-3:].startswith('01'):\n",
    "    print(\"Belongs to CSE\")\n",
    "elif a[-3:].startswith('11'):\n",
    "    print(\"Belongs to IT\")\n",
    "elif a[-3:].startswith('21'):\n",
    "    print(\"Belongs to ECE\")\n",
    "else:\n",
    "    print(\"Not a SRM student\")"
   ]
  },
  {
   "cell_type": "code",
   "execution_count": 1,
   "id": "0decdddc",
   "metadata": {},
   "outputs": [
    {
     "name": "stdout",
     "output_type": "stream",
     "text": [
      "Your roll number: Ap19110010115\n",
      "Belongs to IT\n"
     ]
    }
   ],
   "source": [
    "a = input(\"Your roll number: \")\n",
    "if a[-3:].startswith('01'):\n",
    "    print(\"Belongs to CSE\")\n",
    "elif a[-3:].startswith('11'):\n",
    "    print(\"Belongs to IT\")\n",
    "elif a[-3:].startswith('21'):\n",
    "    print(\"Belongs to ECE\")\n",
    "else:\n",
    "    print(\"Not a SRM student\")"
   ]
  },
  {
   "cell_type": "code",
   "execution_count": 3,
   "id": "69c79bcf",
   "metadata": {},
   "outputs": [
    {
     "name": "stdout",
     "output_type": "stream",
     "text": [
      "Your roll number: AP19110010215\n",
      "Belongs to ECE\n"
     ]
    }
   ],
   "source": [
    "a = input(\"Your roll number: \")\n",
    "if a[-3:].startswith('01'):\n",
    "    print(\"Belongs to CSE\")\n",
    "elif a[-3:].startswith('11'):\n",
    "    print(\"Belongs to IT\")\n",
    "elif a[-3:].startswith('21'):\n",
    "    print(\"Belongs to ECE\")\n",
    "else:\n",
    "    print(\"Not a SRM student\")"
   ]
  },
  {
   "cell_type": "code",
   "execution_count": 4,
   "id": "f9b42ddd",
   "metadata": {},
   "outputs": [
    {
     "name": "stdout",
     "output_type": "stream",
     "text": [
      "Your roll number: AP19110010235\n",
      "Not a SRM student\n"
     ]
    }
   ],
   "source": [
    "a = input(\"Your roll number: \")\n",
    "if a[-3:].startswith('01'):\n",
    "    print(\"Belongs to CSE\")\n",
    "elif a[-3:].startswith('11'):\n",
    "    print(\"Belongs to IT\")\n",
    "elif a[-3:].startswith('21'):\n",
    "    print(\"Belongs to ECE\")\n",
    "else:\n",
    "    print(\"Not a SRM student\")"
   ]
  },
  {
   "cell_type": "code",
   "execution_count": null,
   "id": "e195b5e9",
   "metadata": {},
   "outputs": [],
   "source": []
  }
 ],
 "metadata": {
  "kernelspec": {
   "display_name": "Python 3",
   "language": "python",
   "name": "python3"
  },
  "language_info": {
   "codemirror_mode": {
    "name": "ipython",
    "version": 3
   },
   "file_extension": ".py",
   "mimetype": "text/x-python",
   "name": "python",
   "nbconvert_exporter": "python",
   "pygments_lexer": "ipython3",
   "version": "3.8.8"
  }
 },
 "nbformat": 4,
 "nbformat_minor": 5
}
